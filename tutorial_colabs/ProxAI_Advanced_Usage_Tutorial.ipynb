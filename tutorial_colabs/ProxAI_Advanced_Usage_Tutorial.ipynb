{
  "nbformat": 4,
  "nbformat_minor": 0,
  "metadata": {
    "colab": {
      "provenance": [],
      "toc_visible": true,
      "authorship_tag": "ABX9TyPSC43+WCOxo51kxwanq/k+",
      "include_colab_link": true
    },
    "kernelspec": {
      "name": "python3",
      "display_name": "Python 3"
    },
    "language_info": {
      "name": "python"
    }
  },
  "cells": [
    {
      "cell_type": "markdown",
      "metadata": {
        "id": "view-in-github",
        "colab_type": "text"
      },
      "source": [
        "<a href=\"https://colab.research.google.com/github/proxai/proxai/blob/updates/ProxAI_Advanced_Usage_Tutorial.ipynb\" target=\"_parent\"><img src=\"https://colab.research.google.com/assets/colab-badge.svg\" alt=\"Open In Colab\"/></a>"
      ]
    },
    {
      "cell_type": "markdown",
      "source": [
        "# 🚀 ProxAI Advanced Usage Tutorial 🚀"
      ],
      "metadata": {
        "id": "3z6UUzIzGzbW"
      }
    },
    {
      "cell_type": "markdown",
      "source": [
        "## 👋 Introduction\n",
        "\n",
        "Welcome to the ProxAI Advanced Usage Tutorial! This notebook will guide you through some of the advanced features of the ProxAI library. ProxAI unifies AI connections across different providers and offers powerful tools to manage your AI interactions.\n",
        "\n",
        "In this tutorial, we will cover:\n",
        "1. ⚡️ Setting up ProxAI in Google Colab\n",
        "2. 🔋 List Available Models\n",
        "3. 🤖 Generate Text\n",
        "4. 🔮 Set Global Model\n",
        "5. 🧪 Experiment Path\n",
        "6. 🎞️ Logs Management\n",
        "7. 💾 Cache System - ⭐️ Highly Recommended! ⭐️\n",
        "8. 🔌 ProxDash Connection\n",
        "9. 🚦 Strict Feature Test\n",
        "10. ⚠️ Suppress Provider Errors\n",
        "11. 📝 Get Current Options\n",
        "12. 🍾 Final Thoughts and Next Steps\n",
        "\n",
        "Remember, the most effective way to master ProxAI (or any tool!) is to **dive in and use it directly to solve problems.** This tutorial is useful for people who want to formally dive deep into the powerful features of ProxAI."
      ],
      "metadata": {
        "id": "8NPds7cLG1bi"
      }
    },
    {
      "cell_type": "markdown",
      "source": [
        "# 1. ⚡️ Setup in Google Colab\n",
        "Documentation: [proxai.co/proxai-docs](https://www.proxai.co/proxai-docs)"
      ],
      "metadata": {
        "id": "CxLuPcknG-BS"
      }
    },
    {
      "cell_type": "markdown",
      "source": [
        "## 1.1. 💻 Installation (UPDATE THIS TO PIP)\n",
        "\n",
        "First, let's install the ProxAI library. We'll clone the repository and install it.\n",
        "\n",
        "You can track releases on the [roadmap page](/resources/roadmap) 🗺️.\n",
        "\n",
        "**Note:** After running the installation cell, you will likely need to **🔄 restart the Colab session** using the button that appears in the output of the cell or by going to `Runtime > Restart session`."
      ],
      "metadata": {
        "id": "NMzcnmqIG_lx"
      }
    },
    {
      "cell_type": "code",
      "execution_count": null,
      "metadata": {
        "id": "hRecvegyGfwT"
      },
      "outputs": [],
      "source": [
        "!git clone https://github.com/proxai/proxai.git\n",
        "%cd /content/proxai/\n",
        "!pip install ."
      ]
    },
    {
      "cell_type": "markdown",
      "source": [
        "## 1.2. 🔑 API Key Management\n",
        "\n",
        "ProxAI works with various AI providers. You'll need to add your API keys as secrets in Google Colab. This is the safest way to handle them.\n",
        "\n",
        "1.  Click on the **🔑 icon (Secrets)** in the left sidebar of Colab.\n",
        "2.  Add your API keys with the names ProxAI expects (e.g., `OPENAI_API_KEY`, `GEMINI_API_KEY`, `PROXDASH_API_KEY`, etc.). Refer to the [Provider Integrations documentation](https://www.proxai.co/proxai-docs/provider-integrations) for the full list of environment keys.\n",
        "\n",
        "Run the following cell to load your API keys from Colab secrets into the environment.\n",
        "\n",
        "<div style=\"background-color: #ffebee; border-left: 6px solid #f44336; padding: 10px; margin-bottom: 15px;\">\n",
        "  <p style=\"margin: 0; font-weight: bold; color: #c62828;\">🚫 Important Security Note:</p>\n",
        "  <p style=\"margin: 0; color: #c62828;\">Never directly add API key values as string variables inside the Colab cells. Even after deletion, they can be retrieved from the Colab history.</p>\n",
        "</div>"
      ],
      "metadata": {
        "id": "UsWwX2J-HPKd"
      }
    },
    {
      "cell_type": "code",
      "source": [
        "import os\n",
        "from google.colab import userdata\n",
        "from dataclasses import asdict\n",
        "from pprint import pprint\n",
        "\n",
        "API_KEY_LIST = [\n",
        "    'GEMINI_API_KEY',\n",
        "    'OPENAI_API_KEY',\n",
        "    'ANTHROPIC_API_KEY',\n",
        "    # 'XAI_API_KEY',\n",
        "    # 'DEEPSEEK_API_KEY',\n",
        "    # 'MISTRAL_API_KEY',\n",
        "    # 'CO_API_KEY',\n",
        "    # 'DATABRICKS_HOST',\n",
        "    # 'DATABRICKS_TOKEN',\n",
        "    # 'HUGGINGFACE_API_KEY',\n",
        "    'PROXDASH_API_KEY', # For ProxDash connection\n",
        "]\n",
        "\n",
        "print(\"🔐 Attempting to load API keys from Colab secrets...\")\n",
        "for api_key_name in API_KEY_LIST:\n",
        "  try:\n",
        "    os.environ[api_key_name] = userdata.get(api_key_name)\n",
        "    print(f\"  ✅ Successfully loaded {api_key_name}\")\n",
        "  except userdata.SecretNotFoundError:\n",
        "    print(f\"  ⚠️ Secret for {api_key_name} not found. Skipping.\")\n",
        "  except Exception as e:\n",
        "    print(f\"  ❌ An error occurred while loading {api_key_name}: {e}\")"
      ],
      "metadata": {
        "id": "qEVpT_-7HdqU"
      },
      "execution_count": null,
      "outputs": []
    },
    {
      "cell_type": "markdown",
      "source": [
        "## 1.3. ▶️ Import ProxAI\n",
        "\n",
        "Ready to go!"
      ],
      "metadata": {
        "id": "eZim4oRpKc2J"
      }
    },
    {
      "cell_type": "code",
      "source": [
        "import proxai as px"
      ],
      "metadata": {
        "id": "X-0Fp1hzKoWq"
      },
      "execution_count": null,
      "outputs": []
    },
    {
      "cell_type": "markdown",
      "source": [
        "# 2. 🔋 List Available Models\n",
        "\n",
        "Documentation: [proxai.co/proxai-docs/available-models](https://www.proxai.co/proxai-docs/available-models)"
      ],
      "metadata": {
        "id": "-ZpFbUStIVbr"
      }
    },
    {
      "cell_type": "markdown",
      "source": [
        "## 2.1. 🪛 Simple Usage\n",
        "\n",
        "Let's list available models in our session! 🎉 \\\n",
        "**Note:** This can take for a while for the first run but the results are cached and it will be fast for other runs."
      ],
      "metadata": {
        "id": "XhysxMyOIxkn"
      }
    },
    {
      "cell_type": "code",
      "source": [
        "provider_models = px.models.list_models()\n",
        "for provider_model in provider_models:\n",
        "  print(f'{provider_model.provider:>25} - {provider_model.model}')"
      ],
      "metadata": {
        "id": "Lu7PIc6rI2-l"
      },
      "execution_count": null,
      "outputs": []
    },
    {
      "cell_type": "markdown",
      "source": [
        "## 2.2. 🔭 Different Model Sizes\n",
        "\n",
        "It is possible to filter out models according to ProxAI sizes."
      ],
      "metadata": {
        "id": "1t4gdLhiM7fa"
      }
    },
    {
      "cell_type": "code",
      "source": [
        "provider_models = px.models.list_models(model_size='small')\n",
        "print('🥚 Small models:')\n",
        "for provider_model in provider_models:\n",
        "  print(f'{provider_model.provider:>25} - {provider_model.model}')\n",
        "\n",
        "provider_models = px.models.list_models(model_size='medium')\n",
        "print('🐣 Medium models:')\n",
        "for provider_model in provider_models:\n",
        "  print(f'{provider_model.provider:>25} - {provider_model.model}')\n",
        "\n",
        "provider_models = px.models.list_models(model_size='large')\n",
        "print('🐥 Large models:')\n",
        "for provider_model in provider_models:\n",
        "  print(f'{provider_model.provider:>25} - {provider_model.model}')\n",
        "\n",
        "provider_models = px.models.list_models(model_size='largest')\n",
        "print('🐓 Largest models of each provider:')\n",
        "for provider_model in provider_models:\n",
        "  print(f'{provider_model.provider:>25} - {provider_model.model}')"
      ],
      "metadata": {
        "id": "PUre0elWNV7M"
      },
      "execution_count": null,
      "outputs": []
    },
    {
      "cell_type": "markdown",
      "source": [
        "## 2.3. 📃 Details of Model List\n",
        "\n",
        "You can get detailed metadata of available models:\n",
        "* `working_models`: List of working models\n",
        "* `failed_models`: List of failed models\n",
        "* `provider_queries`: Dictionary of provider queries that each key has `px.types.ProviderModelType` and each value has `px.types.LoggingRecord`. You can check error messages from these queries."
      ],
      "metadata": {
        "id": "er6mKLlWOPFj"
      }
    },
    {
      "cell_type": "code",
      "source": [
        "model_status = px.models.list_models(return_all=True)\n",
        "\n",
        "print(f'✅ Available models: {len(model_status.working_models)}')\n",
        "print(f'❌ Failed models: {len(model_status.failed_models)}\\n')\n",
        "errors = []\n",
        "for provider_model, query in model_status.provider_queries.items():\n",
        "  if query.response_record.error:\n",
        "    errors.append((str(provider_model), query.response_record.error))\n",
        "pprint(errors[:3])"
      ],
      "metadata": {
        "id": "wJkKozHIOeW_"
      },
      "execution_count": null,
      "outputs": []
    },
    {
      "cell_type": "markdown",
      "source": [
        "# 3. 🤖 Generate Text\n",
        "\n",
        "Documentation: [proxai.co/proxai-docs/generate-text](https://www.proxai.co/proxai-docs/generate-text)"
      ],
      "metadata": {
        "id": "m9jEL82ZRIZJ"
      }
    },
    {
      "cell_type": "markdown",
      "source": [
        "## 3.1. 🐶 The Simplest Usage\n",
        "\n",
        "You can directly call `px.generate_text()` without any additional paramters. ProxAI picks default model or fallback models if default model is not working."
      ],
      "metadata": {
        "id": "u0D2_cwHROl6"
      }
    },
    {
      "cell_type": "code",
      "source": [
        "response = px.generate_text('Hello! Which model are you?')\n",
        "print(response)"
      ],
      "metadata": {
        "id": "Ylz2eGPpROGT"
      },
      "execution_count": null,
      "outputs": []
    },
    {
      "cell_type": "markdown",
      "source": [
        "## 3.2. ✏️ Setting Provider Model\n",
        "\n",
        "There is two different way of directly setting model on `px.generate_text()`\n",
        "* Tuple with provider and model string\n",
        "* `px.types.ProviderModelType` value"
      ],
      "metadata": {
        "id": "7QQ8rJbrR-yD"
      }
    },
    {
      "cell_type": "code",
      "source": [
        "print('✏️ Tuple provider_model value:')\n",
        "response = px.generate_text(\n",
        "    'Hello! Which model are you?',\n",
        "    provider_model=('claude', 'haiku'))\n",
        "print(response)\n",
        "\n",
        "print('\\n✒️ px.types.ProviderModelType value:')\n",
        "response = px.generate_text(\n",
        "    'Hello! Which model are you?',\n",
        "    provider_model=px.models.get_model('gemini', 'gemini-1.5-flash'))\n",
        "print(response)"
      ],
      "metadata": {
        "id": "_BSRsKI5SS4t"
      },
      "execution_count": null,
      "outputs": []
    },
    {
      "cell_type": "markdown",
      "source": [
        "## 3.3. 👑 System Prompt\n",
        "\n",
        "You can set system prompt as follows."
      ],
      "metadata": {
        "id": "Z5lOHpxwTK1L"
      }
    },
    {
      "cell_type": "code",
      "source": [
        "response = px.generate_text(\n",
        "    'Hello! Which model are you?',\n",
        "    system=\"You are an helpful assitant that allways answers in Japan.\",\n",
        "    provider_model=('claude', 'haiku'))\n",
        "print(response)"
      ],
      "metadata": {
        "id": "XWSxDa9WTMzK"
      },
      "execution_count": null,
      "outputs": []
    },
    {
      "cell_type": "markdown",
      "source": [
        "## 3.4. 💬 Message History\n",
        "\n",
        "It is possible to give the history of conversations to the model via messages. This helps to give context to the model.\n",
        "* (role=user/assistant, content=text) is a common format for AI provider APIs.\n",
        "* Some provider uses different tags but you don't need to worry about it. ProxAI handles these integrations."
      ],
      "metadata": {
        "id": "8OSqVD_RlsJq"
      }
    },
    {
      "cell_type": "code",
      "source": [
        "response = px.generate_text(\n",
        "    system=\"No matter what, always answer with single integer.\",\n",
        "    messages=[\n",
        "        {\"role\": \"user\", \"content\": \"Hello AI Model!\"},\n",
        "        {\"role\": \"assistant\", \"content\": \"17\"},\n",
        "        {\"role\": \"user\", \"content\": \"How are you today?\"},\n",
        "        {\"role\": \"assistant\", \"content\": \"923123\"},\n",
        "        {\"role\": \"user\",\n",
        "         \"content\": \"Can you answer question without any integer?\"}\n",
        "    ],\n",
        ")\n",
        "print(response)"
      ],
      "metadata": {
        "id": "FEAkI2pslrmJ"
      },
      "execution_count": null,
      "outputs": []
    },
    {
      "cell_type": "markdown",
      "source": [
        "## 3.5. ✋ Max Tokens\n",
        "\n",
        "Limit the token size to avoid cost and delay."
      ],
      "metadata": {
        "id": "aaZFlHddmgMr"
      }
    },
    {
      "cell_type": "code",
      "source": [
        "response = px.generate_text(\n",
        "    'Can you write all numbers from 1 to 1000?',\n",
        "    max_tokens=20)\n",
        "print(response)"
      ],
      "metadata": {
        "id": "W9GqNRx_mtVs"
      },
      "execution_count": null,
      "outputs": []
    },
    {
      "cell_type": "markdown",
      "source": [
        "## 3.6. 🌡️ Tempreture\n",
        "\n",
        "If you are looking for more creative answers and more randomness, you can set tempreture to lower values than 1."
      ],
      "metadata": {
        "id": "AEUIopUXnQZE"
      }
    },
    {
      "cell_type": "code",
      "source": [
        "response = px.generate_text(\n",
        "    'If 5 + 20 would be a poem, what life be look like?',\n",
        "    temperature=0.01)\n",
        "print(response)"
      ],
      "metadata": {
        "id": "wJtjOOpPnQOC"
      },
      "execution_count": null,
      "outputs": []
    },
    {
      "cell_type": "markdown",
      "source": [
        "## 3.7. ☕️ Extensive Return\n",
        "\n",
        "You can get all details and metadata about query made to the provider by setting `extensive_return` to `True`"
      ],
      "metadata": {
        "id": "9yu0YwPKmfum"
      }
    },
    {
      "cell_type": "code",
      "source": [
        "response = px.generate_text(\n",
        "    'Hello! Which model are you?',\n",
        "    extensive_return=True)\n",
        "pprint(asdict(response))"
      ],
      "metadata": {
        "id": "4vzn8NhUnFRg"
      },
      "execution_count": null,
      "outputs": []
    },
    {
      "cell_type": "markdown",
      "source": [
        "## 3.8. ⚠️ Suppress Provider Errors\n",
        "\n",
        "If you don't want to raise error when provider fails and just want to continue with error message, you can set `suppress_provider_errors` to `True`.\n",
        "* Check error message on `logging_record.response_record.error`\n",
        "* Check error traceback on `logging_record.response_record.error_traceback`"
      ],
      "metadata": {
        "id": "L_FjIokkntlY"
      }
    },
    {
      "cell_type": "code",
      "source": [
        "# First, lets pick already failing model:\n",
        "model_status = px.models.list_models(return_all=True)\n",
        "if not model_status.failed_models:\n",
        "  raise ValueError(\n",
        "      \"There is no failed models to try \\'suppress_provider_errors\\' option.\")\n",
        "provider_model = list(model_status.failed_models)[0]\n",
        "\n",
        "# Second, make call with suppress_provider_errors=True:\n",
        "response = px.generate_text(\n",
        "    'If 5 + 20 would be a poem, what life be look like?',\n",
        "    provider_model=provider_model,\n",
        "    suppress_provider_errors=True,\n",
        "    extensive_return=True)\n",
        "\n",
        "# No error raised before printing the response or error:\n",
        "print(f'🤖 Model: {response.query_record.provider_model}')\n",
        "print(f'💬 Response: {response.response_record.response}')\n",
        "print(f'❌ Error: {response.response_record.error.strip()}')\n",
        "print(f'⚠️ Error Traceback:\\n{response.response_record.error_traceback.strip()}')"
      ],
      "metadata": {
        "id": "4rTWF9Mmnt4G"
      },
      "execution_count": null,
      "outputs": []
    },
    {
      "cell_type": "markdown",
      "source": [
        "# 4. 🔮 Set Global Model\n",
        "\n",
        "Documentation: [proxai.co/proxai-docs/set-global-model](https://www.proxai.co/proxai-docs/set-global-model)\n",
        "\n",
        "You can set global default model by `px.set_model()` instead of using what ProxAI picks for you. All unspecified `px.generate_text()` calls will use this model."
      ],
      "metadata": {
        "id": "N8qgLfKrqlQM"
      }
    },
    {
      "cell_type": "code",
      "source": [
        "# Let's define python method that doesn't specify provider_model\n",
        "def simple_request():\n",
        "  return px.generate_text(\n",
        "      'Hey AI model! This is simple request. Give an answer. Quick!',\n",
        "  ).strip().replace('\\n', ' ')[:80]\n",
        "\n",
        "# We can change default model by px.set_model\n",
        "for provider_model in px.models.list_models():\n",
        "  px.set_model(provider_model)\n",
        "  response = simple_request()\n",
        "  print(f'{provider_model} - {response}')"
      ],
      "metadata": {
        "id": "0ujKRyXrrtct"
      },
      "execution_count": null,
      "outputs": []
    },
    {
      "cell_type": "markdown",
      "source": [
        "# 5. ❤️‍🩹 Check Health\n",
        "\n",
        "Documentation: [proxai.co/proxai-docs/check-health](https://www.proxai.co/proxai-docs/check-health)"
      ],
      "metadata": {
        "id": "quLssC0fsozQ"
      }
    },
    {
      "cell_type": "markdown",
      "source": [
        "## 5.1. 🐱 Simple Check"
      ],
      "metadata": {
        "id": "vrNmqGRAvY4w"
      }
    },
    {
      "cell_type": "code",
      "source": [
        "px.check_health()"
      ],
      "metadata": {
        "id": "DAVal1wCvmyF"
      },
      "execution_count": null,
      "outputs": []
    },
    {
      "cell_type": "markdown",
      "source": [
        "## 5.2. 📃 Extensive Return"
      ],
      "metadata": {
        "id": "nPeVoeo82ldg"
      }
    },
    {
      "cell_type": "code",
      "source": [
        "model_status = px.check_health(verbose=False, extensive_return=True)\n",
        "print('--- model_status.working_models:')\n",
        "pprint(model_status.working_models)\n",
        "print('--- model_status.failed_models:')\n",
        "pprint(model_status.failed_models)"
      ],
      "metadata": {
        "id": "Vz7GkjRt2q0e"
      },
      "execution_count": null,
      "outputs": []
    },
    {
      "cell_type": "markdown",
      "source": [
        "# 6. 🧪 Experiment Path\n",
        "\n",
        "Documentation: [proxai.co/proxai-docs/advanced/experiment-path](https://www.proxai.co/proxai-docs/advanced/experiment-path)\n",
        "\n",
        "To able unlock experiments path features, please be sure you complated following steps:\n",
        "1. Open ProxAI account from [proxai.co/signup](https://www.proxai.co/signup)\n",
        "2. Create ProxAI API key from [proxai.co/dashboard/api-keys](https://www.proxai.co/dashboard/api-keys)\n",
        "3. Add new API key to 🔑 Colab Secrets from left as `PROXDASH_API_KEY`\n",
        "4. Run \"1.2. 🔑 API Key Management\" cell again to load API key"
      ],
      "metadata": {
        "id": "ikUGCN2s2uwi"
      }
    },
    {
      "cell_type": "markdown",
      "source": [
        "## 6.1. 🐭 Simple Usage with ProxDash"
      ],
      "metadata": {
        "id": "FbvLstu23W_q"
      }
    },
    {
      "cell_type": "code",
      "source": [
        "px.connect(\n",
        "    experiment_path='colab_experiments/advanced_features/run_1')\n",
        "\n",
        "px.generate_text('Please recommend me a good movie.')\n",
        "\n",
        "print('1 - Open ProxDash experiments page: https://proxai.co/dashboard/experiments')\n",
        "print('2 - Open colab_experiments/advanced_features/run_1 from experiment tree. (Refresh experiments if necessary)')\n",
        "print('3 - Check logging records tab to see movie recommendation query.')"
      ],
      "metadata": {
        "id": "53BN-DcP3Whk"
      },
      "execution_count": null,
      "outputs": []
    },
    {
      "cell_type": "markdown",
      "source": [
        "# 7. 🎞️ Logs Management\n",
        "\n",
        "Documentation: [proxai.co/proxai-docs/advanced/logs-management](https://www.proxai.co/proxai-docs/advanced/logs-management)\n",
        "\n",
        "This feature can be more useful in local runs rather than Google Colab."
      ],
      "metadata": {
        "id": "YMkcmVfH55EQ"
      }
    },
    {
      "cell_type": "markdown",
      "source": [
        "## 7.1. 🐹 Simple Usage"
      ],
      "metadata": {
        "id": "fpihvARS6aei"
      }
    },
    {
      "cell_type": "code",
      "source": [
        "import json\n",
        "\n",
        "px.connect(\n",
        "    experiment_path='colab_experiments/advanced_features/run_1',\n",
        "    logging_path='/content/')\n",
        "\n",
        "px.generate_text('Hello model!')\n",
        "\n",
        "print(os.listdir('/content/colab_experiments/advanced_features/run_1'))\n",
        "\n",
        "with open('/content/colab_experiments/advanced_features/run_1/provider_queries.log', 'r') as f:\n",
        "  for line in f:\n",
        "    pprint(json.loads(line))"
      ],
      "metadata": {
        "id": "IFW76TzX6Zs-"
      },
      "execution_count": null,
      "outputs": []
    },
    {
      "cell_type": "markdown",
      "source": [
        "## 7.2 🕵️ Hide Sensitive Content\n",
        "\n",
        "You can hide sensitive contents like prompt, response, messages etc. from log files to make proxai more secure.\n"
      ],
      "metadata": {
        "id": "yciz8x4Q6oxY"
      }
    },
    {
      "cell_type": "code",
      "source": [
        "px.connect(\n",
        "    experiment_path='colab_experiments/advanced_features/run_2',\n",
        "    logging_options=px.types.LoggingOptions(\n",
        "        logging_path='/content/',\n",
        "        hide_sensitive_content=True,\n",
        "    ))\n",
        "\n",
        "px.generate_text('Hello model!')\n",
        "\n",
        "print(os.listdir('/content/colab_experiments/advanced_features/run_2'))\n",
        "\n",
        "print('Following file should\\'t show the sensitive information:')\n",
        "with open('/content/colab_experiments/advanced_features/run_2/provider_queries.log', 'r') as f:\n",
        "  for line in f:\n",
        "    pprint(json.loads(line))"
      ],
      "metadata": {
        "id": "NjFKQGFS6oGp"
      },
      "execution_count": null,
      "outputs": []
    },
    {
      "cell_type": "markdown",
      "source": [
        "## 7.3. 🖥️ Stdout\n",
        "\n",
        "There is option for printing all logs to the stdout. It is useful for debugging cases."
      ],
      "metadata": {
        "id": "HiXCZ0X26n0J"
      }
    },
    {
      "cell_type": "code",
      "source": [
        "px.connect(\n",
        "    experiment_path='colab_experiments/advanced_features/run_2',\n",
        "    logging_options=px.types.LoggingOptions(\n",
        "        logging_path='/content/',\n",
        "        stdout=True,\n",
        "    ))\n",
        "\n",
        "print('You should be able to see logging record on cell output for following:')\n",
        "response = px.generate_text('Hello model!')"
      ],
      "metadata": {
        "id": "fN_CP6FZ7U0A"
      },
      "execution_count": null,
      "outputs": []
    },
    {
      "cell_type": "markdown",
      "source": [
        "# 8. 💾 Cache System - ⭐️ Highly Recommended! ⭐️\n",
        "\n",
        "Documentation: [proxai.co/proxai-docs/advanced/cache-system](https://www.proxai.co/proxai-docs/advanced/cache-system)\n",
        "\n",
        "This feature is very useful at development stage. Without this feature, experiments can get very painful very easily.\n",
        "\n",
        "First, let's define simple method to get response and duration as in following section."
      ],
      "metadata": {
        "id": "CmkM9-E77odn"
      }
    },
    {
      "cell_type": "code",
      "source": [
        "import random\n",
        "import time\n",
        "\n",
        "def test_cache():\n",
        "  fixed_int = random.randint(10000, 20000)\n",
        "\n",
        "  def test_prompt():\n",
        "    start = time.time()\n",
        "    response = px.generate_text(\n",
        "        'Can you pick 100 different random positive integers which are less '\n",
        "        f'than {fixed_int}? Can you also explain why you picked these numbers? '\n",
        "        'Please think deeply about your decision and answer accordingly. '\n",
        "        'Start your sentence with random simple poem.',\n",
        "        temperature=0.3)\n",
        "    duration = time.time() - start\n",
        "    response = response.strip().replace('\\n', ' ')[:80]\n",
        "    return response, duration\n",
        "\n",
        "  for i in range(1, 7):\n",
        "    response, duration = test_prompt()\n",
        "    print(f'{i}: {duration:.3f} sec - {response}')\n",
        "\n",
        "# Also, set use simpler model:\n",
        "px.set_model(('gemini', 'gemini-2.0-flash'))"
      ],
      "metadata": {
        "id": "Sexgs-w98Dsv"
      },
      "execution_count": null,
      "outputs": []
    },
    {
      "cell_type": "markdown",
      "source": [
        "## 8.1. 🐰 Simple Usage\n",
        "\n",
        "Following example shows how to use simple query cache by only setting cache_path.\n",
        "* All responses returned from cache after first query.\n",
        "* First query takes longer than other queries."
      ],
      "metadata": {
        "id": "3LpQePog8tKI"
      }
    },
    {
      "cell_type": "code",
      "source": [
        "px.connect(\n",
        "    experiment_path='colab_experiments/advanced_features/run_3',\n",
        "    cache_path='/content/')\n",
        "\n",
        "test_cache()"
      ],
      "metadata": {
        "id": "zucslnKA8rez"
      },
      "execution_count": null,
      "outputs": []
    },
    {
      "cell_type": "markdown",
      "source": [
        "## 8.2. 🕶️ Unique Response Limit\n",
        "\n",
        "If you want more diverse results, you can set `unique_response_limit` option.\n",
        "* This ensures that it makes at least `unique_response_limit` actual provider queries.\n",
        "* Cache responses returned in round robin fashion.\n",
        "\n",
        "Following examples shows that first three responses are from provider and takes longer than other three responses."
      ],
      "metadata": {
        "id": "QP8P_Coo9Vw0"
      }
    },
    {
      "cell_type": "code",
      "source": [
        "px.connect(\n",
        "    experiment_path='colab_experiments/advanced_features/run_3',\n",
        "    cache_options=px.CacheOptions(\n",
        "        cache_path='/content/',\n",
        "        unique_response_limit=3\n",
        "    ))\n",
        "\n",
        "test_cache()"
      ],
      "metadata": {
        "id": "dexR3qVX9WGC"
      },
      "execution_count": null,
      "outputs": []
    },
    {
      "cell_type": "markdown",
      "source": [
        "## 8.3 🏓 Skip Cache\n",
        "\n",
        "It is possible to skip cache and ensure actual provider queries are made. Set `usa_cache=False` for `px.generate_text()` method. This ensures for that generate text query, result is always from provider."
      ],
      "metadata": {
        "id": "WSdbvOub-0q4"
      }
    },
    {
      "cell_type": "code",
      "source": [
        "px.connect(\n",
        "    experiment_path='colab_experiments/advanced_features/run_3',\n",
        "    cache_path='/content/')\n",
        "\n",
        "response = px.generate_text(\n",
        "    'Hello model!',\n",
        "    extensive_return=True)\n",
        "print(response.response_source)\n",
        "\n",
        "response = px.generate_text(\n",
        "    'Hello model!',\n",
        "    extensive_return=True)\n",
        "print(response.response_source)\n",
        "\n",
        "response = px.generate_text(\n",
        "    'Hello model!',\n",
        "    use_cache=False,\n",
        "    extensive_return=True)\n",
        "print(response.response_source)"
      ],
      "metadata": {
        "id": "Wjo9zCWs-0cl"
      },
      "execution_count": null,
      "outputs": []
    },
    {
      "cell_type": "markdown",
      "source": [
        "## 8.4. 🛀 Clear Cache and Override Params\n",
        "\n",
        "It is possible clear cache on connect to ensure session doesn't have any cache.\\\n",
        "Let's also override the `unique_response_limit` on `px.generate_text` observe more control."
      ],
      "metadata": {
        "id": "5UmGm39g_lmX"
      }
    },
    {
      "cell_type": "code",
      "source": [
        "px.connect(\n",
        "    experiment_path='colab_experiments/advanced_features/run_3',\n",
        "    cache_options=px.CacheOptions(\n",
        "        cache_path='/content/',\n",
        "        unique_response_limit=3,\n",
        "        clear_query_cache_on_connect=True,\n",
        "    ))\n",
        "\n",
        "response = px.generate_text(\n",
        "    'Hello model!',\n",
        "    unique_response_limit=1,\n",
        "    extensive_return=True)\n",
        "print(response.response_source)\n",
        "\n",
        "response = px.generate_text(\n",
        "    'Hello model!',\n",
        "    unique_response_limit=1,\n",
        "    extensive_return=True)\n",
        "print(response.response_source)\n",
        "\n",
        "response = px.generate_text(\n",
        "    'Hello model!',\n",
        "    unique_response_limit=1,\n",
        "    extensive_return=True)\n",
        "print(response.response_source)"
      ],
      "metadata": {
        "id": "5mq_4epT_lGo"
      },
      "execution_count": null,
      "outputs": []
    },
    {
      "cell_type": "markdown",
      "source": [
        "# 9. 🔌 ProxDash Connection\n",
        "\n",
        "Documentation: [proxai.co/proxai-docs/advanced/proxdash-connection](https://www.proxai.co/proxai-docs/advanced/proxdash-connection)\n",
        "\n",
        "There are number of advantages to use ProxAI with ProxDash. Please, refer advantages on [proxai.co](https://www.proxai.co/) and [resources](https://www.proxai.co/resources/why)\n",
        "\n",
        "In \"6. 🧪 Experiment Path\" section, we already used proxdash. Please, check the steps required over there if you skipped that section."
      ],
      "metadata": {
        "id": "pJYNn3jaAWHf"
      }
    },
    {
      "cell_type": "markdown",
      "source": [
        "## 9.1. 🦊 Simple Usage"
      ],
      "metadata": {
        "id": "_RnK1D9CBvxJ"
      }
    },
    {
      "cell_type": "code",
      "source": [
        "px.connect()\n",
        "\n",
        "print('By default, this should appear on ProxDash logging history if ProxDash\\n'\n",
        "      'API key set in colab.\\n\\n'\n",
        "      'Please check https://www.proxai.co/dashboard/logging if you can see\\n'\n",
        "      'following query on ProxDash.')\n",
        "response = px.generate_text('This is temp proxdash test')"
      ],
      "metadata": {
        "id": "c5ZhyUhkB1_Q"
      },
      "execution_count": null,
      "outputs": []
    },
    {
      "cell_type": "markdown",
      "source": [
        "## 9.2. 📂 Setting Experiment Path"
      ],
      "metadata": {
        "id": "y25QJ-ebCjSV"
      }
    },
    {
      "cell_type": "code",
      "source": [
        "px.connect(\n",
        "    experiment_path='colab_experiments/advanced_features/run_4')\n",
        "\n",
        "print('By default, this should appear on ProxDash logging history and\\n'\n",
        "      'experiments with provided experiment path.\\n\\n'\n",
        "      'Please check https://www.proxai.co/dashboard/experiments if you\\n'\n",
        "      'can see following experiment path:\\n'\n",
        "      '> colab_experiments/advanced_features/run_4\\n\\n'\n",
        "      'If you open this experiment and go logging record tab, you should be\\n'\n",
        "      'able to see following query on ProxDash.')\n",
        "response = px.generate_text('This is temp proxdash experiment path test')"
      ],
      "metadata": {
        "id": "XTb-uDgGCjDU"
      },
      "execution_count": null,
      "outputs": []
    },
    {
      "cell_type": "markdown",
      "source": [
        "## 9.3. 🕵️ Hide Sensitive Content\n",
        "\n",
        "Normally, ProxDash respects the privacy level you set on the API key generation page. However, you still have control over the fields you want to send to ProxDash in case:\n",
        "* API key has the permission but you don’t want to send some fields to ProxDash anyway.\n",
        "* API key doesn’t have the permission and you want to ensure to block the fields rather relying on the ProxDash permission level.\n",
        "\n",
        "To do this, you can use the hide_sensitive_content option in the proxdash_options parameter."
      ],
      "metadata": {
        "id": "0TRqEuHgDuSC"
      }
    },
    {
      "cell_type": "code",
      "source": [
        "px.connect(\n",
        "    experiment_path='colab_experiments/advanced_features/run_4',\n",
        "    proxdash_options=px.ProxDashOptions(\n",
        "        hide_sensitive_content=True\n",
        "    ))\n",
        "\n",
        "print('Following query record should appear on ProxDash logging history but\\n'\n",
        "      'the content of the prompt and response cannot be visible.\\n'\n",
        "      'Please check the latest logging record on '\n",
        "      'https://www.proxai.co/dashboard/logging to confirm that.')\n",
        "response = px.generate_text(\n",
        "    'This record should appear on ProxDash but the prompt content '\n",
        "    'and the response content from AI provider shouldn\\'t appear on ProxDash.')"
      ],
      "metadata": {
        "id": "FHZug30NDtrV"
      },
      "execution_count": null,
      "outputs": []
    },
    {
      "cell_type": "markdown",
      "source": [
        "## 9.4. 📣 Print ProxDash Connection Logs"
      ],
      "metadata": {
        "id": "J_XhV8YmEypX"
      }
    },
    {
      "cell_type": "code",
      "source": [
        "print('You should be able to see ProxDash connection status:')\n",
        "px.reset_state()\n",
        "px.connect(\n",
        "    experiment_path='colab_experiments/advanced_features/run_4',\n",
        "    proxdash_options=px.ProxDashOptions(\n",
        "        stdout=True\n",
        "    ))"
      ],
      "metadata": {
        "id": "FXBZ0HpSEuA3"
      },
      "execution_count": null,
      "outputs": []
    },
    {
      "cell_type": "markdown",
      "source": [
        "## 9.5. 🚧 Disable ProxDash\n",
        "\n",
        "You can remove `PROXDASH_API_KEY` from environment variables to disable ProxDash but there is simpler way:"
      ],
      "metadata": {
        "id": "VeP2kECOFNGq"
      }
    },
    {
      "cell_type": "code",
      "source": [
        "px.connect(\n",
        "    proxdash_options=px.ProxDashOptions(\n",
        "        stdout=True,\n",
        "        disable_proxdash=True,\n",
        "    ))\n",
        "\n",
        "print('Following record should not appear on ProxDash logging history:\\n'\n",
        "      'https://www.proxai.co/dashboard/logging')\n",
        "reponse = px.generate_text('This prompt should not appear on proxdash')"
      ],
      "metadata": {
        "id": "hC6VintAFMnu"
      },
      "execution_count": null,
      "outputs": []
    },
    {
      "cell_type": "markdown",
      "source": [
        "# 10. 🚦 Strict feature Test\n",
        "\n",
        "Documentation: [https://www.proxai.co/proxai-docs/advanced/strict-feature-test](https://www.proxai.co/proxai-docs/advanced/strict-feature-test)\n",
        "\n",
        "Not all models are supporting all features. ProxAI tries best effort to handle feature requirements.\n",
        "* If you want to fail if feature is not supported on model, you can set `strict_feature_test=False` on `px.connect()`"
      ],
      "metadata": {
        "id": "4dPyCyYEGDSc"
      }
    },
    {
      "cell_type": "code",
      "source": [
        "px.connect(\n",
        "    experiment_path='colab_experiments/advanced_features/run_6',\n",
        "    strict_feature_test=True)\n",
        "\n",
        "try:\n",
        "  px.generate_text(\n",
        "      'Create me a simple poem about birds.',\n",
        "      provider_model=('openai', 'o1'),\n",
        "      temperature=0.3)\n",
        "except Exception as e:\n",
        "  print(\n",
        "      'This query raises error because temperature feature is not supported on '\n",
        "      'OpenAI\\'s o1 model.')\n",
        "  print(f'Error: {e}')"
      ],
      "metadata": {
        "id": "ezIsh3-yGCt_"
      },
      "execution_count": null,
      "outputs": []
    },
    {
      "cell_type": "markdown",
      "source": [
        "# 11. ⚠️ Suppress Provider Errors\n",
        "\n",
        "Documentation: [https://www.proxai.co/proxai-docs/advanced/suppress-provider-errors](https://www.proxai.co/proxai-docs/advanced/suppress-provider-errors)\n",
        "\n",
        "Instead of raising AI provider errors, you can get `logging_record.response_query.error` and `logging_record.response_query.error_traceback` by setting `suppress_provider_errors=True`.\n",
        "\n",
        "This allows you to continue the processing and check what errors are happening from ProxDash."
      ],
      "metadata": {
        "id": "JPD0E0inHq-I"
      }
    },
    {
      "cell_type": "code",
      "source": [
        "px.connect(suppress_provider_errors=True)\n",
        "\n",
        "# First, lets pick already failing model:\n",
        "model_status = px.models.list_models(return_all=True)\n",
        "if not model_status.failed_models:\n",
        "  raise ValueError(\n",
        "      \"There is no failed models to try \\'suppress_provider_errors\\' option.\")\n",
        "provider_model = list(model_status.failed_models)[0]\n",
        "\n",
        "# Second, make call with suppress_provider_errors=True:\n",
        "response = px.generate_text(\n",
        "    'If 5 + 20 would be a poem, what life be look like?',\n",
        "    provider_model=provider_model,\n",
        "    extensive_return=True)\n",
        "\n",
        "# No error raised before printing the response or error:\n",
        "print(f'🤖 Model: {response.query_record.provider_model}')\n",
        "print(f'💬 Response: {response.response_record.response}')\n",
        "print(f'❌ Error: {response.response_record.error.strip()}')\n",
        "print(f'⚠️ Error Traceback:\\n{response.response_record.error_traceback.strip()}')"
      ],
      "metadata": {
        "id": "m62vMzthHuDG"
      },
      "execution_count": null,
      "outputs": []
    },
    {
      "cell_type": "markdown",
      "source": [
        "# 12. 📝 Get Current Options\n",
        "\n",
        "Documentation: [proxai.co/proxai-docs/advanced/get-current-options](https://www.proxai.co/proxai-docs/advanced/get-current-options)"
      ],
      "metadata": {
        "id": "DaDw5jc8I56Y"
      }
    },
    {
      "cell_type": "markdown",
      "source": [
        "## 12.1. 🐻 Simple Usage"
      ],
      "metadata": {
        "id": "3fskpsoZJd6e"
      }
    },
    {
      "cell_type": "code",
      "source": [
        "pprint(asdict(px.get_current_options()))"
      ],
      "metadata": {
        "id": "vO2gvLY5JOgw"
      },
      "execution_count": null,
      "outputs": []
    },
    {
      "cell_type": "markdown",
      "source": [
        "## 12.2. 🦁 Also Another Simple Example"
      ],
      "metadata": {
        "id": "WAnq5PdYJoko"
      }
    },
    {
      "cell_type": "code",
      "source": [
        "px.connect(\n",
        "    experiment_path='colab_experiments/advanced_features/run_5',\n",
        "    logging_path='/content/',\n",
        "    logging_options=px.LoggingOptions(\n",
        "        stdout=True,\n",
        "        hide_sensitive_content=True),\n",
        "    cache_path='/content/',\n",
        "    cache_options=px.CacheOptions(\n",
        "        retry_if_error_cached=True,\n",
        "        unique_response_limit=3),\n",
        "    proxdash_options=px.ProxDashOptions(\n",
        "        stdout=True,\n",
        "        hide_sensitive_content=True),\n",
        "    strict_feature_test=True,\n",
        "    allow_multiprocessing=False,\n",
        "    suppress_provider_errors=True)\n",
        "\n",
        "pprint(px.get_current_options(json=True))"
      ],
      "metadata": {
        "id": "vGncnCXvJmtk"
      },
      "execution_count": null,
      "outputs": []
    },
    {
      "cell_type": "markdown",
      "source": [
        "# 🍾 Final Thoughts and Next Steps\n",
        "\n",
        "### 🎉 Congratulations🎉\n",
        "\n",
        "Congratulations on completing the ProxAI Advanced Usage Tutorial!\n",
        "\n",
        "### 🚀 Create, Innovate, and Share!\n",
        "\n",
        "The real magic happens when you start building! We wholeheartedly encourage you to:\n",
        "* 🥇 **Develop cool scripts, intricate code examples, and innovative projects** using ProxAI.\n",
        "* 🏆 **Share your creations!** Whether it's with the ProxAI community, on your blog, in forums, or with colleagues, your examples can inspire and help others.\n",
        "\n",
        "### 🌱 Learn by Doing\n",
        "\n",
        "We've covered a lot of ground, and going through each feature meticulously one by one can sometimes feel daunting. Remember, the most effective way to master ProxAI (or any tool!) is to **dive in and use it directly to solve problems.**\n",
        "\n",
        "### 🤝 Contribute to ProxAI\n",
        "\n",
        "ProxAI is an open-source project, and its strength grows with its community. We warmly invite you to contribute!\n",
        "* **Report bugs or suggest new features:** Your feedback is invaluable. (See [Reporting Bugs & Feature Requests](https://www.proxai.co/resources/community))\n",
        "* **Improve documentation:** Help us make the docs clearer and more comprehensive.\n",
        "* **Write code:** Contribute fixes, new features, or new provider integrations.\n",
        "\n",
        "Check out our **[ProxAI GitHub repository](https://github.com/proxai/proxai)** and the [Contribution Guidelines](https://www.proxai.co/resources/community/guidelines) to get started.\n",
        "\n",
        "### 📞 Get in Touch\n",
        "\n",
        "We're here to help and love hearing from our users!\n",
        "\n",
        "* **Discord Community:** For real-time chat, support, and discussions: [discord.gg/QhrDkzMHrP](https://discord.gg/QhrDkzMHrP)\n",
        "* **GitHub Issues:** For technical questions, bug reports, and feature requests: [github.com/proxai/proxai/issues](https://github.com/proxai/proxai/issues)\n",
        "* **Email Contacts:**\n",
        "    * Feedback & Feature Suggestions: [feedback@proxai.co](feedback@proxai.co) ⭐️\n",
        "    * Development & Contribution Support: [dev@proxai.co](dev@proxai.co)\n",
        "    * General Community Inquiries: [community@proxai.co](community@proxai.co)\n",
        "\n",
        "Thank you for learning with ProxAI. We can't wait to see what you build! 🚀"
      ],
      "metadata": {
        "id": "x2Py-bKdJ28Y"
      }
    }
  ]
}