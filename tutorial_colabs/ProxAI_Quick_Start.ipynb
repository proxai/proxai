{
  "cells": [
    {
      "cell_type": "markdown",
      "metadata": {
        "colab_type": "text",
        "id": "view-in-github"
      },
      "source": [
        "<a href=\"https://colab.research.google.com/github/proxai/proxai/blob/main/tutorial_colabs/ProxAI_Quick_Start.ipynb\" target=\"_parent\"><img src=\"https://colab.research.google.com/assets/colab-badge.svg\" alt=\"Open In Colab\"/></a>"
      ]
    },
    {
      "cell_type": "markdown",
      "metadata": {
        "id": "pjbMJjs52Muk"
      },
      "source": [
        "# 🏃‍♂️‍➡️ ProxAI Quick Start Tutorial 🏃‍♂️‍➡️"
      ]
    },
    {
      "cell_type": "markdown",
      "metadata": {
        "id": "Cn4yLuib4RC5"
      },
      "source": [
        "## 👋 Introduction\n",
        "\n",
        "Welcome to the ProxAI Quick Start Tutorial! This notebook will guide you through some of the features of the ProxAI library.\n",
        "\n",
        "In this tutorial, we will cover:\n",
        "1. ⚡️ Setting up ProxAI in Google Colab\n",
        "2. 🔋 List Available Models\n",
        "3. 🤖 Generate Text\n",
        "4. 🔮 Set Global Model"
      ]
    },
    {
      "cell_type": "markdown",
      "metadata": {
        "id": "lhUb737sqIIi"
      },
      "source": [
        "# 1. ⚡️ Setup in Google Colab\n",
        "Documentation: [proxai.co/proxai-docs](https://www.proxai.co/proxai-docs)"
      ]
    },
    {
      "cell_type": "markdown",
      "metadata": {
        "id": "HuNUNooRqOIm"
      },
      "source": [
        "## 1.1. 💻 Installation (UPDATE THIS TO PIP)\n",
        "\n",
        "First, let's install the ProxAI library. We'll clone the repository and install it.\n",
        "\n",
        "You can track releases on the [roadmap page](/resources/roadmap) 🗺️.\n",
        "\n",
        "**Note:** After running the installation cell, you will likely need to **🔄 restart the Colab session** using the button that appears in the output of the cell or by going to `Runtime > Restart session`."
      ]
    },
    {
      "cell_type": "code",
      "execution_count": null,
      "metadata": {
        "id": "av5yOW1mqBug"
      },
      "outputs": [],
      "source": [
        "!git clone https://github.com/proxai/proxai.git\n",
        "%cd /content/proxai\n",
        "!pip install ."
      ]
    },
    {
      "cell_type": "markdown",
      "metadata": {
        "id": "yItxyArt4sK3"
      },
      "source": [
        "## 1.2. 🔑 API Key Management\n",
        "\n",
        "ProxAI works with various AI providers. You'll need to add your API keys as secrets in Google Colab. This is the safest way to handle them.\n",
        "\n",
        "1.  Click on the **🔑 icon (Secrets)** in the left sidebar of Colab.\n",
        "2.  Add your API keys with the names ProxAI expects (e.g., `OPENAI_API_KEY`, `GEMINI_API_KEY`, `PROXDASH_API_KEY`, etc.). Refer to the [Provider Integrations documentation](https://www.proxai.co/proxai-docs/provider-integrations) for the full list of environment keys.\n",
        "\n",
        "Run the following cell to load your API keys from Colab secrets into the environment.\n",
        "\n",
        "<div style=\"background-color: #ffebee; border-left: 6px solid #f44336; padding: 10px; margin-bottom: 15px;\">\n",
        "  <p style=\"margin: 0; font-weight: bold; color: #c62828;\">🚫 Important Security Note:</p>\n",
        "  <p style=\"margin: 0; color: #c62828;\">Never directly add API key values as string variables inside the Colab cells. Even after deletion, they can be retrieved from the Colab history.</p>\n",
        "</div>"
      ]
    },
    {
      "cell_type": "code",
      "execution_count": null,
      "metadata": {
        "id": "JUzEyL3PqcN0"
      },
      "outputs": [],
      "source": [
        "import os\n",
        "from google.colab import userdata\n",
        "from dataclasses import asdict\n",
        "from pprint import pprint\n",
        "\n",
        "API_KEY_LIST = [\n",
        "    'GEMINI_API_KEY',\n",
        "    'OPENAI_API_KEY',\n",
        "    'ANTHROPIC_API_KEY',\n",
        "    # 'XAI_API_KEY',\n",
        "    # 'DEEPSEEK_API_KEY',\n",
        "    # 'MISTRAL_API_KEY',\n",
        "    # 'CO_API_KEY',\n",
        "    # 'DATABRICKS_HOST',\n",
        "    # 'DATABRICKS_TOKEN',\n",
        "    # 'HUGGINGFACE_API_KEY',\n",
        "    'PROXDASH_API_KEY', # For ProxDash connection\n",
        "]\n",
        "\n",
        "print(\"🔐 Attempting to load API keys from Colab secrets...\")\n",
        "for api_key_name in API_KEY_LIST:\n",
        "  try:\n",
        "    os.environ[api_key_name] = userdata.get(api_key_name)\n",
        "    print(f\"  ✅ Successfully loaded {api_key_name}\")\n",
        "  except userdata.SecretNotFoundError:\n",
        "    print(f\"  ⚠️ Secret for {api_key_name} not found. Skipping.\")\n",
        "  except Exception as e:\n",
        "    print(f\"  ❌ An error occurred while loading {api_key_name}: {e}\")"
      ]
    },
    {
      "cell_type": "markdown",
      "metadata": {
        "id": "rYRptpaO5LVd"
      },
      "source": [
        "## 1.3. ▶️ Import ProxAI\n",
        "\n",
        "Ready to go!"
      ]
    },
    {
      "cell_type": "code",
      "execution_count": null,
      "metadata": {
        "id": "Dsx0B36W5NFe"
      },
      "outputs": [],
      "source": [
        "import proxai as px"
      ]
    },
    {
      "cell_type": "markdown",
      "metadata": {
        "id": "SDHnRjkW5Ph5"
      },
      "source": [
        "# 2. 🔋 List Available Models\n",
        "\n",
        "Documentation: [proxai.co/proxai-docs/available-models](https://www.proxai.co/proxai-docs/available-models)"
      ]
    },
    {
      "cell_type": "markdown",
      "metadata": {
        "id": "jB_CFueU5RUy"
      },
      "source": [
        "## 2.1. 🪛 Simple Usage\n",
        "\n",
        "Let's list available models in our session! 🎉 \\\n",
        "**Note:** This can take for a while for the first run but the results are cached and it will be fast for other runs."
      ]
    },
    {
      "cell_type": "code",
      "execution_count": null,
      "metadata": {
        "id": "JAwC8WLW5TZv"
      },
      "outputs": [],
      "source": [
        "provider_models = px.models.list_models()\n",
        "for provider_model in provider_models:\n",
        "  print(f'{provider_model}')"
      ]
    },
    {
      "cell_type": "markdown",
      "metadata": {
        "id": "9dAVv5Ld5VAN"
      },
      "source": [
        "## 2.2. 🔭 Different Model Sizes\n",
        "\n",
        "It is possible to filter out models according to ProxAI sizes."
      ]
    },
    {
      "cell_type": "code",
      "execution_count": null,
      "metadata": {
        "id": "Z3zKDEnV5Vfs"
      },
      "outputs": [],
      "source": [
        "provider_models = px.models.list_models(model_size='small')\n",
        "print('🥚 Small models:')\n",
        "for provider_model in provider_models:\n",
        "  print(f'{provider_model.provider:>25} - {provider_model.model}')\n",
        "\n",
        "provider_models = px.models.list_models(model_size='medium')\n",
        "print('🐣 Medium models:')\n",
        "for provider_model in provider_models:\n",
        "  print(f'{provider_model.provider:>25} - {provider_model.model}')\n",
        "\n",
        "provider_models = px.models.list_models(model_size='large')\n",
        "print('🐥 Large models:')\n",
        "for provider_model in provider_models:\n",
        "  print(f'{provider_model.provider:>25} - {provider_model.model}')\n",
        "\n",
        "provider_models = px.models.list_models(model_size='largest')\n",
        "print('🐓 Largest models of each provider:')\n",
        "for provider_model in provider_models:\n",
        "  print(f'{provider_model.provider:>25} - {provider_model.model}')"
      ]
    },
    {
      "cell_type": "markdown",
      "metadata": {
        "id": "fevDRQa65jOa"
      },
      "source": [
        "# 3. 🤖 Generate Text\n",
        "\n",
        "Documentation: [proxai.co/proxai-docs/generate-text](https://www.proxai.co/proxai-docs/generate-text)"
      ]
    },
    {
      "cell_type": "markdown",
      "metadata": {
        "id": "98ExB5P65jz-"
      },
      "source": [
        "## 3.1. 🐶 The Simplest Usage\n",
        "\n",
        "You can directly call `px.generate_text()` without any additional paramters. ProxAI picks default model or fallback models if default model is not working."
      ]
    },
    {
      "cell_type": "code",
      "execution_count": null,
      "metadata": {
        "id": "BiJcBYYp5oCJ"
      },
      "outputs": [],
      "source": [
        "response = px.generate_text('Hello! Which model are you?')\n",
        "print(response)"
      ]
    },
    {
      "cell_type": "markdown",
      "metadata": {
        "id": "xtJSwNzV5tZN"
      },
      "source": [
        "## 3.2. ✏️ Setting Provider Model\n",
        "\n",
        "You can specify `provider_model` parameter for `px.generate_text()` as `(provider, model)` tuple of strings.\n",
        "* Check [Provider Integrations documentation](https://www.proxai.co/proxai-docs/provider-integrations) to see all available models."
      ]
    },
    {
      "cell_type": "code",
      "execution_count": null,
      "metadata": {
        "id": "KlqvKC7R5uHY"
      },
      "outputs": [],
      "source": [
        "print('✏️ Tuple provider_model value:')\n",
        "response = px.generate_text(\n",
        "    'Hello! Which model are you?',\n",
        "    provider_model=('claude', 'haiku'))\n",
        "print(response)"
      ]
    },
    {
      "cell_type": "markdown",
      "metadata": {
        "id": "4rOS-GeJ6V8V"
      },
      "source": [
        "## 3.3. 💬 Additional Features\n",
        "\n",
        "You can use `system`, `messages`, `temperature`, `stop`, and many more on `px.generate_text()`.\n",
        "* Check [Generate Text documentation](https://www.proxai.co/proxai-docs/generate-text) to see all available options."
      ]
    },
    {
      "cell_type": "code",
      "execution_count": null,
      "metadata": {
        "id": "h2dgwvr57HE9"
      },
      "outputs": [],
      "source": [
        "response = px.generate_text(\n",
        "    system=\"Try to impersonate Italian America Chef. Try to use lot's of italian words.\",\n",
        "    messages=[\n",
        "        {\"role\": \"user\", \"content\": \"Hello AI Model!\"},\n",
        "        {\"role\": \"assistant\", \"content\": \"Buongiorno!\"},\n",
        "        {\"role\": \"user\", \"content\": \"How are you today?\"},\n",
        "        {\"role\": \"assistant\", \"content\": \"Molto Bene! How are you amico?\"},\n",
        "        {\"role\": \"user\", \"content\": \"Can you recomend me Italian restaurants in NYC?\"}\n",
        "    ],\n",
        "    max_tokens=1000,\n",
        "    temperature=0.7,\n",
        "    stop=[\"\\n\"],\n",
        ")\n",
        "print(response)"
      ]
    },
    {
      "cell_type": "markdown",
      "metadata": {
        "id": "ygkY063C73pC"
      },
      "source": [
        "# 4. 🔮 Set Global Model\n",
        "\n",
        "Documentation: [proxai.co/proxai-docs/set-global-model](https://www.proxai.co/proxai-docs/set-global-model)\n",
        "\n",
        "You can set global default model by `px.set_model()` instead of using what ProxAI picks for you. All unspecified `px.generate_text()` calls will use this model."
      ]
    },
    {
      "cell_type": "code",
      "execution_count": null,
      "metadata": {
        "id": "If_C8c5H76Ri"
      },
      "outputs": [],
      "source": [
        "# Let's define python method that doesn't specify provider_model\n",
        "def simple_request():\n",
        "  return px.generate_text(\n",
        "      'Hey AI model! This is simple request. Give an answer. Quick!',\n",
        "  ).strip().replace('\\n', ' ')[:80]\n",
        "\n",
        "# We can change default model by px.set_model\n",
        "for provider_model in px.models.list_models():\n",
        "  px.set_model(provider_model)\n",
        "  response = simple_request()\n",
        "  print(f'{provider_model} - {response}')"
      ]
    },
    {
      "cell_type": "markdown",
      "metadata": {
        "id": "WXTjoov47-8R"
      },
      "source": [
        "# 🎊 Final Thoughts and Next Steps\n",
        "\n",
        "This is the basic usage of ProxAI and leads you to create enourmous project!\n",
        "\n",
        "If you want to unlock all potential of ProxAI after your toy projects and scripts, please check [🚀 ProxAI Advanced Usage Tutorial 🚀](https://www.proxai.co/proxai-docs/google-colab-example) colab.\n",
        "\n",
        "ProxAI offers lots of features that gives you:\n",
        "* 5x development speed\n",
        "* Model picker and benchmarking tools\n",
        "* More control over how queries handled\n",
        "* ProxDash analytics, metrics, debuggers, cost management, and more tools"
      ]
    }
  ],
  "metadata": {
    "colab": {
      "authorship_tag": "ABX9TyMrIb2mkQQhxTFLReYfp3N8",
      "include_colab_link": true,
      "provenance": []
    },
    "kernelspec": {
      "display_name": "Python 3",
      "name": "python3"
    },
    "language_info": {
      "name": "python"
    }
  },
  "nbformat": 4,
  "nbformat_minor": 0
}
